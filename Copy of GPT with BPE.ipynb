{
 "cells": [
  {
   "cell_type": "code",
   "execution_count": 1,
   "id": "9fea505c",
   "metadata": {
    "executionInfo": {
     "elapsed": 2,
     "status": "ok",
     "timestamp": 1745314869130,
     "user": {
      "displayName": "Rohit Tiwari",
      "userId": "01270517727154737436"
     },
     "user_tz": -330
    },
    "id": "9fea505c"
   },
   "outputs": [],
   "source": [
    "from tokenizers import Tokenizer, models, trainers, pre_tokenizers, normalizers\n",
    "from tokenizers.normalizers import Sequence, NFD, StripAccents\n",
    "from tokenizers.pre_tokenizers import Whitespace\n",
    "from tokenizers.trainers import BpeTrainer\n"
   ]
  },
  {
   "cell_type": "code",
   "execution_count": 2,
   "id": "f3692775",
   "metadata": {
    "executionInfo": {
     "elapsed": 3,
     "status": "ok",
     "timestamp": 1745314870669,
     "user": {
      "displayName": "Rohit Tiwari",
      "userId": "01270517727154737436"
     },
     "user_tz": -330
    },
    "id": "f3692775"
   },
   "outputs": [],
   "source": [
    "tokenizer = Tokenizer(models.BPE())"
   ]
  },
  {
   "cell_type": "code",
   "execution_count": 3,
   "id": "2c18c6a2",
   "metadata": {
    "executionInfo": {
     "elapsed": 7,
     "status": "ok",
     "timestamp": 1745314879404,
     "user": {
      "displayName": "Rohit Tiwari",
      "userId": "01270517727154737436"
     },
     "user_tz": -330
    },
    "id": "2c18c6a2"
   },
   "outputs": [],
   "source": [
    "tokenizer.normalizer = Sequence([ NFD()])"
   ]
  },
  {
   "cell_type": "code",
   "execution_count": 4,
   "id": "795cc71d",
   "metadata": {
    "executionInfo": {
     "elapsed": 3,
     "status": "ok",
     "timestamp": 1745314884185,
     "user": {
      "displayName": "Rohit Tiwari",
      "userId": "01270517727154737436"
     },
     "user_tz": -330
    },
    "id": "795cc71d"
   },
   "outputs": [],
   "source": [
    "tokenizer.pre_tokenizer = Whitespace()"
   ]
  },
  {
   "cell_type": "code",
   "execution_count": 5,
   "id": "7f1b1a2d",
   "metadata": {
    "executionInfo": {
     "elapsed": 5,
     "status": "ok",
     "timestamp": 1745314886234,
     "user": {
      "displayName": "Rohit Tiwari",
      "userId": "01270517727154737436"
     },
     "user_tz": -330
    },
    "id": "7f1b1a2d"
   },
   "outputs": [],
   "source": [
    "trainer = BpeTrainer( vocab_size=12000, \n",
    "                     min_frequency=2, \n",
    "                     show_progress=True, \n",
    "                     special_tokens=[\"<pad>\", \"<unk>\", \"<s>\", \"</s>\", \"<mask>\"], \n",
    "                     limit_alphabet=1000,\n",
    "                     continuing_subword_prefix=\"##\", \n",
    "                    )"
   ]
  },
  {
   "cell_type": "code",
   "execution_count": 6,
   "id": "ae01a26b",
   "metadata": {
    "executionInfo": {
     "elapsed": 2,
     "status": "ok",
     "timestamp": 1745314927090,
     "user": {
      "displayName": "Rohit Tiwari",
      "userId": "01270517727154737436"
     },
     "user_tz": -330
    },
    "id": "ae01a26b"
   },
   "outputs": [],
   "source": [
    "files = [\"wikipedia_articles_cleaned_100MB.txt\"]"
   ]
  },
  {
   "cell_type": "code",
   "execution_count": 7,
   "id": "03aefa48",
   "metadata": {
    "executionInfo": {
     "elapsed": 85404,
     "status": "ok",
     "timestamp": 1745315079360,
     "user": {
      "displayName": "Rohit Tiwari",
      "userId": "01270517727154737436"
     },
     "user_tz": -330
    },
    "id": "03aefa48"
   },
   "outputs": [],
   "source": [
    "tokenizer.train(files, trainer)"
   ]
  },
  {
   "cell_type": "code",
   "execution_count": 8,
   "id": "cacaf7ae",
   "metadata": {
    "colab": {
     "base_uri": "https://localhost:8080/",
     "height": 141
    },
    "executionInfo": {
     "elapsed": 22,
     "status": "error",
     "timestamp": 1745314943342,
     "user": {
      "displayName": "Rohit Tiwari",
      "userId": "01270517727154737436"
     },
     "user_tz": -330
    },
    "id": "cacaf7ae",
    "outputId": "7a550641-26de-4fa7-86ff-969352191733"
   },
   "outputs": [],
   "source": [
    "tokenizer.save(\"bpe_tokenizer_100MB.json\")"
   ]
  },
  {
   "cell_type": "code",
   "execution_count": 9,
   "id": "119e4d8a",
   "metadata": {
    "colab": {
     "base_uri": "https://localhost:8080/"
    },
    "executionInfo": {
     "elapsed": 257352,
     "status": "ok",
     "timestamp": 1745313764237,
     "user": {
      "displayName": "Rohit Tiwari",
      "userId": "01270517727154737436"
     },
     "user_tz": -330
    },
    "id": "119e4d8a",
    "outputId": "5f01a596-aefc-4796-b326-f81093a89e0b"
   },
   "outputs": [
    {
     "name": "stdout",
     "output_type": "stream",
     "text": [
      "Total tokens: 9598690\n"
     ]
    }
   ],
   "source": [
    "from transformers import GPT2TokenizerFast\n",
    "from torch.utils.data import Dataset, DataLoader\n",
    "import torch\n",
    "\n",
    "# Load tokenizer\n",
    "tokenizer = GPT2TokenizerFast(tokenizer_file=\"bpe_tokenizer_100MB.json\")\n",
    "\n",
    "# Load your text\n",
    "with open(files[0], \"r\", encoding=\"utf-8\") as f:\n",
    "    text = f.read()\n",
    "\n",
    "# Encode the full text\n",
    "tokens = tokenizer.encode(text)\n",
    "print(f\"Total tokens: {len(tokens)}\")\n",
    "\n",
    "# Create a simple dataset that chunks the tokenized text\n",
    "class TextDataset(Dataset):\n",
    "    def __init__(self, tokens, block_size):\n",
    "        self.tokens = tokens\n",
    "        self.block_size = block_size\n",
    "\n",
    "    def __len__(self):\n",
    "        return len(self.tokens) // self.block_size\n",
    "\n",
    "    def __getitem__(self, idx):\n",
    "        start = idx * self.block_size\n",
    "        end = start + self.block_size\n",
    "        x = torch.tensor(self.tokens[start:end], dtype=torch.long)\n",
    "        y = torch.tensor(self.tokens[start + 1:end + 1], dtype=torch.long)\n",
    "        return x, y\n"
   ]
  },
  {
   "cell_type": "code",
   "execution_count": 10,
   "id": "8ff7017e",
   "metadata": {
    "executionInfo": {
     "elapsed": 169,
     "status": "ok",
     "timestamp": 1745315101138,
     "user": {
      "displayName": "Rohit Tiwari",
      "userId": "01270517727154737436"
     },
     "user_tz": -330
    },
    "id": "8ff7017e"
   },
   "outputs": [],
   "source": [
    "from transformers import GPT2LMHeadModel, GPT2Config\n",
    "\n",
    "# Build a GPT2 model from scratch\n",
    "config = GPT2Config(\n",
    "    vocab_size=12_000,\n",
    "    n_positions=256,\n",
    "    n_ctx=256,\n",
    "    n_embd=384,\n",
    "    n_layer=8,\n",
    "    n_head=6,\n",
    "    resid_pdrop=0.1,             # Dropout for residual connections\n",
    "    attn_pdrop=0.1,              # Dropout for attention layers\n",
    "    embd_pdrop=0.1,              # Dropout for embeddings\n",
    "    # Optimization\n",
    "    activation_function=\"gelu\",\n",
    "    use_cache=False,             \n",
    ")\n",
    "model = GPT2LMHeadModel(config)\n"
   ]
  },
  {
   "cell_type": "code",
   "execution_count": 11,
   "id": "d9ef6a78",
   "metadata": {
    "colab": {
     "base_uri": "https://localhost:8080/",
     "height": 211
    },
    "executionInfo": {
     "elapsed": 69,
     "status": "error",
     "timestamp": 1745315102573,
     "user": {
      "displayName": "Rohit Tiwari",
      "userId": "01270517727154737436"
     },
     "user_tz": -330
    },
    "id": "d9ef6a78",
    "outputId": "7dd3dd91-4160-4902-df50-c63b9aa79251"
   },
   "outputs": [
    {
     "name": "stderr",
     "output_type": "stream",
     "text": [
      "Epoch 1/20:   0%|                                                                             | 0/1171 [00:00<?, ?it/s]`loss_type=None` was set in the config but it is unrecognised.Using the default loss: `ForCausalLMLoss`.\n",
      "Epoch 1/20: 100%|███████████████████████████████████████████████████████| 1171/1171 [02:30<00:00,  7.76it/s, loss=6.49]\n"
     ]
    },
    {
     "name": "stdout",
     "output_type": "stream",
     "text": [
      "Epoch 1 | Train Loss: 6.7915\n"
     ]
    },
    {
     "name": "stderr",
     "output_type": "stream",
     "text": [
      "Epoch 2/20: 100%|███████████████████████████████████████████████████████| 1171/1171 [02:32<00:00,  7.68it/s, loss=6.21]\n"
     ]
    },
    {
     "name": "stdout",
     "output_type": "stream",
     "text": [
      "Epoch 2 | Train Loss: 6.3241\n"
     ]
    },
    {
     "name": "stderr",
     "output_type": "stream",
     "text": [
      "Epoch 3/20: 100%|███████████████████████████████████████████████████████| 1171/1171 [02:32<00:00,  7.69it/s, loss=5.85]\n"
     ]
    },
    {
     "name": "stdout",
     "output_type": "stream",
     "text": [
      "Epoch 3 | Train Loss: 6.1110\n"
     ]
    },
    {
     "name": "stderr",
     "output_type": "stream",
     "text": [
      "Epoch 4/20: 100%|███████████████████████████████████████████████████████| 1171/1171 [02:32<00:00,  7.67it/s, loss=5.89]\n"
     ]
    },
    {
     "name": "stdout",
     "output_type": "stream",
     "text": [
      "Epoch 4 | Train Loss: 5.9533\n"
     ]
    },
    {
     "name": "stderr",
     "output_type": "stream",
     "text": [
      "Epoch 5/20: 100%|███████████████████████████████████████████████████████| 1171/1171 [02:32<00:00,  7.68it/s, loss=5.81]\n"
     ]
    },
    {
     "name": "stdout",
     "output_type": "stream",
     "text": [
      "Epoch 5 | Train Loss: 5.8283\n"
     ]
    },
    {
     "name": "stderr",
     "output_type": "stream",
     "text": [
      "Epoch 6/20: 100%|███████████████████████████████████████████████████████| 1171/1171 [02:32<00:00,  7.68it/s, loss=5.65]\n"
     ]
    },
    {
     "name": "stdout",
     "output_type": "stream",
     "text": [
      "Epoch 6 | Train Loss: 5.7240\n"
     ]
    },
    {
     "name": "stderr",
     "output_type": "stream",
     "text": [
      "Epoch 7/20: 100%|███████████████████████████████████████████████████████| 1171/1171 [02:32<00:00,  7.68it/s, loss=5.61]\n"
     ]
    },
    {
     "name": "stdout",
     "output_type": "stream",
     "text": [
      "Epoch 7 | Train Loss: 5.6356\n"
     ]
    },
    {
     "name": "stderr",
     "output_type": "stream",
     "text": [
      "Epoch 8/20: 100%|███████████████████████████████████████████████████████| 1171/1171 [02:32<00:00,  7.67it/s, loss=5.78]\n"
     ]
    },
    {
     "name": "stdout",
     "output_type": "stream",
     "text": [
      "Epoch 8 | Train Loss: 5.5592\n"
     ]
    },
    {
     "name": "stderr",
     "output_type": "stream",
     "text": [
      "Epoch 9/20: 100%|███████████████████████████████████████████████████████| 1171/1171 [02:32<00:00,  7.68it/s, loss=5.42]\n"
     ]
    },
    {
     "name": "stdout",
     "output_type": "stream",
     "text": [
      "Epoch 9 | Train Loss: 5.4920\n"
     ]
    },
    {
     "name": "stderr",
     "output_type": "stream",
     "text": [
      "Epoch 10/20: 100%|██████████████████████████████████████████████████████| 1171/1171 [02:32<00:00,  7.67it/s, loss=5.53]\n"
     ]
    },
    {
     "name": "stdout",
     "output_type": "stream",
     "text": [
      "Epoch 10 | Train Loss: 5.4325\n"
     ]
    },
    {
     "name": "stderr",
     "output_type": "stream",
     "text": [
      "Epoch 11/20: 100%|███████████████████████████████████████████████████████| 1171/1171 [02:33<00:00,  7.65it/s, loss=5.5]\n"
     ]
    },
    {
     "name": "stdout",
     "output_type": "stream",
     "text": [
      "Epoch 11 | Train Loss: 5.3795\n"
     ]
    },
    {
     "name": "stderr",
     "output_type": "stream",
     "text": [
      "Epoch 12/20: 100%|██████████████████████████████████████████████████████| 1171/1171 [02:32<00:00,  7.66it/s, loss=5.38]\n"
     ]
    },
    {
     "name": "stdout",
     "output_type": "stream",
     "text": [
      "Epoch 12 | Train Loss: 5.3311\n"
     ]
    },
    {
     "name": "stderr",
     "output_type": "stream",
     "text": [
      "Epoch 13/20: 100%|██████████████████████████████████████████████████████| 1171/1171 [02:32<00:00,  7.66it/s, loss=5.25]\n"
     ]
    },
    {
     "name": "stdout",
     "output_type": "stream",
     "text": [
      "Epoch 13 | Train Loss: 5.2881\n"
     ]
    },
    {
     "name": "stderr",
     "output_type": "stream",
     "text": [
      "Epoch 14/20: 100%|██████████████████████████████████████████████████████| 1171/1171 [02:32<00:00,  7.66it/s, loss=5.35]\n"
     ]
    },
    {
     "name": "stdout",
     "output_type": "stream",
     "text": [
      "Epoch 14 | Train Loss: 5.2483\n"
     ]
    },
    {
     "name": "stderr",
     "output_type": "stream",
     "text": [
      "Epoch 15/20: 100%|██████████████████████████████████████████████████████| 1171/1171 [02:32<00:00,  7.67it/s, loss=5.29]\n"
     ]
    },
    {
     "name": "stdout",
     "output_type": "stream",
     "text": [
      "Epoch 15 | Train Loss: 5.2125\n"
     ]
    },
    {
     "name": "stderr",
     "output_type": "stream",
     "text": [
      "Epoch 16/20: 100%|██████████████████████████████████████████████████████| 1171/1171 [02:32<00:00,  7.67it/s, loss=5.45]\n"
     ]
    },
    {
     "name": "stdout",
     "output_type": "stream",
     "text": [
      "Epoch 16 | Train Loss: 5.1785\n"
     ]
    },
    {
     "name": "stderr",
     "output_type": "stream",
     "text": [
      "Epoch 17/20: 100%|██████████████████████████████████████████████████████| 1171/1171 [02:32<00:00,  7.69it/s, loss=5.14]\n"
     ]
    },
    {
     "name": "stdout",
     "output_type": "stream",
     "text": [
      "Epoch 17 | Train Loss: 5.1483\n"
     ]
    },
    {
     "name": "stderr",
     "output_type": "stream",
     "text": [
      "Epoch 18/20: 100%|██████████████████████████████████████████████████████| 1171/1171 [02:32<00:00,  7.69it/s, loss=5.21]\n"
     ]
    },
    {
     "name": "stdout",
     "output_type": "stream",
     "text": [
      "Epoch 18 | Train Loss: 5.1203\n"
     ]
    },
    {
     "name": "stderr",
     "output_type": "stream",
     "text": [
      "Epoch 19/20: 100%|██████████████████████████████████████████████████████| 1171/1171 [02:32<00:00,  7.68it/s, loss=5.33]\n"
     ]
    },
    {
     "name": "stdout",
     "output_type": "stream",
     "text": [
      "Epoch 19 | Train Loss: 5.0939\n"
     ]
    },
    {
     "name": "stderr",
     "output_type": "stream",
     "text": [
      "Epoch 20/20: 100%|██████████████████████████████████████████████████████| 1171/1171 [02:32<00:00,  7.70it/s, loss=5.04]"
     ]
    },
    {
     "name": "stdout",
     "output_type": "stream",
     "text": [
      "Epoch 20 | Train Loss: 5.0695\n"
     ]
    },
    {
     "name": "stderr",
     "output_type": "stream",
     "text": [
      "\n"
     ]
    }
   ],
   "source": [
    "from torch.utils.data import DataLoader\n",
    "from torch.optim import AdamW\n",
    "from tqdm import tqdm\n",
    "\n",
    "# Prepare dataset and dataloader\n",
    "dataset = TextDataset(tokens, block_size=256)\n",
    "dataloader = DataLoader(dataset, batch_size=32, shuffle=True, drop_last=True)\n",
    "\n",
    "# Optimizer\n",
    "optimizer = AdamW(model.parameters(), lr=5e-4, weight_decay=0.01)\n",
    "\n",
    "# Gradient clipping to avoid explosions\n",
    "max_grad_norm = 1.0\n",
    "\n",
    "# Move to GPU if available\n",
    "device = torch.device(\"cuda\" if torch.cuda.is_available() else \"cpu\")\n",
    "model.to(device)\n",
    "model.train()\n",
    "\n",
    "# Train manually\n",
    "epochs = 20\n",
    "for epoch in range(epochs):\n",
    "    model.train()\n",
    "    total_loss = 0\n",
    "    progress_bar = tqdm(dataloader, desc=f\"Epoch {epoch+1}/{epochs}\")\n",
    "    \n",
    "    for x, y in progress_bar:\n",
    "        x, y = x.to(device), y.to(device)\n",
    "        \n",
    "        outputs = model(x, labels=y)\n",
    "        loss = outputs.loss\n",
    "        \n",
    "        loss.backward()\n",
    "        torch.nn.utils.clip_grad_norm_(model.parameters(), max_grad_norm)  # Clip gradients\n",
    "        optimizer.step()\n",
    "        optimizer.zero_grad()\n",
    "        \n",
    "        total_loss += loss.item()\n",
    "        progress_bar.set_postfix(loss=loss.item())\n",
    "    \n",
    "    avg_train_loss = total_loss / len(dataloader)\n",
    "    print(f\"Epoch {epoch+1} | Train Loss: {avg_train_loss:.4f}\")\n",
    "\n"
   ]
  },
  {
   "cell_type": "code",
   "execution_count": 12,
   "id": "FKjwRpaJHMAz",
   "metadata": {
    "colab": {
     "base_uri": "https://localhost:8080/"
    },
    "executionInfo": {
     "elapsed": 157,
     "status": "ok",
     "timestamp": 1745235165946,
     "user": {
      "displayName": "Rohit Tiwari",
      "userId": "01270517727154737436"
     },
     "user_tz": -330
    },
    "id": "FKjwRpaJHMAz",
    "outputId": "ee72a982-e5b7-4c05-96ff-5fb36301a8bc"
   },
   "outputs": [
    {
     "data": {
      "text/plain": [
       "('gpt2_morph_manual_100MB\\\\tokenizer_config.json',\n",
       " 'gpt2_morph_manual_100MB\\\\special_tokens_map.json',\n",
       " 'gpt2_morph_manual_100MB\\\\vocab.json',\n",
       " 'gpt2_morph_manual_100MB\\\\merges.txt',\n",
       " 'gpt2_morph_manual_100MB\\\\added_tokens.json',\n",
       " 'gpt2_morph_manual_100MB\\\\tokenizer.json')"
      ]
     },
     "execution_count": 12,
     "metadata": {},
     "output_type": "execute_result"
    }
   ],
   "source": [
    "model.save_pretrained(\"gpt2_morph_manual_100MB\")\n",
    "tokenizer.save_pretrained(\"gpt2_morph_manual_100MB\")"
   ]
  },
  {
   "cell_type": "code",
   "execution_count": 13,
   "id": "zdopT0YFHOEY",
   "metadata": {
    "colab": {
     "base_uri": "https://localhost:8080/",
     "height": 428
    },
    "executionInfo": {
     "elapsed": 360,
     "status": "error",
     "timestamp": 1745235026073,
     "user": {
      "displayName": "Rohit Tiwari",
      "userId": "01270517727154737436"
     },
     "user_tz": -330
    },
    "id": "zdopT0YFHOEY",
    "outputId": "f798ba30-0dca-4a1c-9cb0-d55b6796d359"
   },
   "outputs": [
    {
     "name": "stdout",
     "output_type": "stream",
     "text": [
      "अब ##्राह ##म लिंक ##न द्वारा अमरीकी गृह युद्ध के बीच में गुलाम ##ों आक्रमण समय की से रही और रूप कई ##ियों संगठित गया अमेरिका एक पैमाने आतंकवाद अंत ##ष्ट का करने है इसे पर ##ाया था बाद इस ने दिया । तक दक्षिण एशिया मध्य शांति लिए ##वाद\n"
     ]
    }
   ],
   "source": [
    "input_text = \"अब्राहम लिंकन द्वारा अमरीकी गृह युद्ध के बीच में गुलामों:\"\n",
    "\n",
    "# Tokenize and move tensors to the same device as the model\n",
    "inputs = tokenizer(input_text, return_tensors=\"pt\").to(device)  # Add `.to(device)`\n",
    "\n",
    "# Generate text\n",
    "output = model.generate(\n",
    "    input_ids=inputs[\"input_ids\"],\n",
    "    attention_mask=inputs[\"attention_mask\"],\n",
    "    max_length=50,\n",
    "    do_sample=True,\n",
    "    top_p=0.9,\n",
    "    temperature=0.9,\n",
    "    pad_token_id=tokenizer.eos_token_id,  # Ensure pad_token_id is set\n",
    "    no_repeat_ngram_size=1\n",
    ")\n",
    "\n",
    "print(tokenizer.decode(output[0], skip_special_tokens=True))"
   ]
  }
 ],
 "metadata": {
  "accelerator": "GPU",
  "colab": {
   "gpuType": "T4",
   "provenance": []
  },
  "kernelspec": {
   "display_name": "Python 3 (ipykernel)",
   "language": "python",
   "name": "python3"
  },
  "language_info": {
   "codemirror_mode": {
    "name": "ipython",
    "version": 3
   },
   "file_extension": ".py",
   "mimetype": "text/x-python",
   "name": "python",
   "nbconvert_exporter": "python",
   "pygments_lexer": "ipython3",
   "version": "3.13.2"
  }
 },
 "nbformat": 4,
 "nbformat_minor": 5
}
